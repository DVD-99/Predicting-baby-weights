{
 "cells": [
  {
   "cell_type": "markdown",
   "metadata": {},
   "source": [
    "# Linear Regression"
   ]
  },
  {
   "cell_type": "markdown",
   "metadata": {},
   "source": [
    "### TASK 1: Data Analysis and Data Cleaning"
   ]
  },
  {
   "cell_type": "code",
   "execution_count": 13,
   "metadata": {},
   "outputs": [],
   "source": [
    "import pandas as pd\n",
    "import numpy as np\n",
    "import matplotlib.mlab as mlab\n",
    "import matplotlib.pyplot as plt\n",
    "import scipy.stats\n",
    "from sklearn.model_selection import train_test_split\n",
    "from sklearn import preprocessing\n",
    "import statistics"
   ]
  },
  {
   "cell_type": "markdown",
   "metadata": {},
   "source": [
    "### Load the dataset into memory"
   ]
  },
  {
   "cell_type": "code",
   "execution_count": 14,
   "metadata": {},
   "outputs": [],
   "source": [
    "bweight_data = pd.read_csv(\"baby-weights-dataset.csv\")"
   ]
  },
  {
   "cell_type": "markdown",
   "metadata": {},
   "source": [
    "### Computing mean, stdev, min, max, 25% percentile, median and 75% percentile of the dataset (BWEIGHT variable)"
   ]
  },
  {
   "cell_type": "code",
   "execution_count": 15,
   "metadata": {},
   "outputs": [
    {
     "data": {
      "text/plain": [
       "count    101400.000000\n",
       "mean          7.258066\n",
       "std           1.329461\n",
       "min           0.187500\n",
       "25%           6.625000\n",
       "50%           7.375000\n",
       "75%           8.062500\n",
       "max          13.062500\n",
       "Name: BWEIGHT, dtype: float64"
      ]
     },
     "execution_count": 15,
     "metadata": {},
     "output_type": "execute_result"
    }
   ],
   "source": [
    "bweight_data.BWEIGHT.describe()"
   ]
  },
  {
   "cell_type": "markdown",
   "metadata": {},
   "source": [
    "### Histogram plot for the BWEIGHT variable\n"
   ]
  },
  {
   "cell_type": "code",
   "execution_count": 16,
   "metadata": {},
   "outputs": [
    {
     "data": {
      "image/png": "[encoded data removed]",
      "text/plain": [
       "<Figure size 432x288 with 1 Axes>"
      ]
     },
     "metadata": {
      "needs_background": "light"
     },
     "output_type": "display_data"
    }
   ],
   "source": [
    "x = bweight_data[\"BWEIGHT\"]\n",
    "mu = 7.258066 #mean\n",
    "sigma = 1.329461 #standard deviation\n",
    "plt.xlabel(\"Weight of a baby(in kgs)\")\n",
    "plt.ylabel(\"Frquency\")\n",
    "n, bins, patches = plt.hist(x,30,density=True)\n",
    "y = scipy.stats.norm.pdf( bins, mu, sigma)\n",
    "l = plt.plot(bins, y, 'r--')\n",
    "plt.show()\n"
   ]
  },
  {
   "cell_type": "markdown",
   "metadata": {},
   "source": [
    "### Skewness and Kurtosis of the BWEIGHT"
   ]
  },
  {
   "cell_type": "code",
   "execution_count": 17,
   "metadata": {},
   "outputs": [
    {
     "name": "stdout",
     "output_type": "stream",
     "text": [
      "Kurtosis: 2.868579195051929\n",
      "Skewness: -0.9365796191651633\n"
     ]
    }
   ],
   "source": [
    "print(\"Kurtosis: \"+ str(scipy.stats.kurtosis(x)))\n",
    "print(\"Skewness: \"+ str(scipy.stats.skew(x)))"
   ]
  },
  {
   "cell_type": "markdown",
   "metadata": {},
   "source": [
    "As the Skewness is -0.93 which is moderately skewed, this means the most of the babies weigh more than the mean."
   ]
  },
  {
   "cell_type": "markdown",
   "metadata": {},
   "source": [
    "### Introducing dummy variables"
   ]
  },
  {
   "cell_type": "code",
   "execution_count": 18,
   "metadata": {},
   "outputs": [],
   "source": [
    "dummy = pd.get_dummies(bweight_data,columns=['HISPMOM','HISPDAD'],drop_first=True)"
   ]
  },
  {
   "cell_type": "markdown",
   "metadata": {},
   "source": [
    "### Variable selection from the pool of 124 variables based on correlation score with the target variable BWEIGHT"
   ]
  },
  {
   "cell_type": "code",
   "execution_count": 19,
   "metadata": {},
   "outputs": [],
   "source": [
    "T = dummy[dummy.columns[:]].corr()['BWEIGHT']\n",
    "i = 0\n",
    "train = pd.DataFrame()\n",
    "for col in dummy:\n",
    "    if(T[i] >= 0.04 or T[i] <=-0.04):\n",
    "        t = dummy[col]\n",
    "        train[col] = t\n",
    "    i += 1\n",
    "train = train.drop(columns = ['BWEIGHT'])"
   ]
  },
  {
   "cell_type": "markdown",
   "metadata": {},
   "source": [
    "### Checking for missing data"
   ]
  },
  {
   "cell_type": "code",
   "execution_count": 20,
   "metadata": {},
   "outputs": [
    {
     "data": {
      "text/plain": [
       "ID           0\n",
       "SEX          0\n",
       "MARITAL      0\n",
       "FAGE         0\n",
       "GAINED       0\n",
       "VISITS       0\n",
       "MAGE         0\n",
       "FEDUC        0\n",
       "MEDUC        0\n",
       "TOTALP       0\n",
       "BDEAD        0\n",
       "TERMS        0\n",
       "LOUTCOME     0\n",
       "WEEKS        0\n",
       "RACEMOM      0\n",
       "RACEDAD      0\n",
       "CIGNUM       0\n",
       "DRINKNUM     0\n",
       "ANEMIA       0\n",
       "CARDIAC      0\n",
       "ACLUNG       0\n",
       "DIABETES     0\n",
       "HERPES       0\n",
       "HYDRAM       0\n",
       "HEMOGLOB     0\n",
       "HYPERCH      0\n",
       "HYPERPR      0\n",
       "ECLAMP       0\n",
       "CERVIX       0\n",
       "PINFANT      0\n",
       "PRETERM      0\n",
       "RENAL        0\n",
       "RHSEN        0\n",
       "UTERINE      0\n",
       "BWEIGHT      0\n",
       "HISPMOM_M    0\n",
       "HISPMOM_N    0\n",
       "HISPMOM_O    0\n",
       "HISPMOM_P    0\n",
       "HISPMOM_S    0\n",
       "HISPMOM_U    0\n",
       "HISPDAD_M    0\n",
       "HISPDAD_N    0\n",
       "HISPDAD_O    0\n",
       "HISPDAD_P    0\n",
       "HISPDAD_S    0\n",
       "HISPDAD_U    0\n",
       "dtype: int64"
      ]
     },
     "execution_count": 20,
     "metadata": {},
     "output_type": "execute_result"
    }
   ],
   "source": [
    "dummy.isnull().sum()"
   ]
  },
  {
   "cell_type": "markdown",
   "metadata": {},
   "source": [
    "### Randomly splitting the dataset into training, Tr (80%) and testing, Te (20%)"
   ]
  },
  {
   "cell_type": "code",
   "execution_count": 21,
   "metadata": {},
   "outputs": [
    {
     "name": "stdout",
     "output_type": "stream",
     "text": [
      "(81120, 20) (81120,)\n",
      "(20280, 20) (20280,)\n"
     ]
    }
   ],
   "source": [
    "y = bweight_data[\"BWEIGHT\"]\n",
    "X_train, X_test, y_train, y_test = train_test_split(train, y, test_size=0.2)\n",
    "print (X_train.shape, y_train.shape)\n",
    "print (X_test.shape, y_test.shape)"
   ]
  },
  {
   "cell_type": "markdown",
   "metadata": {},
   "source": [
    "### On the training dataset, applying a normalization technique"
   ]
  },
  {
   "cell_type": "code",
   "execution_count": 22,
   "metadata": {},
   "outputs": [
    {
     "name": "stdout",
     "output_type": "stream",
     "text": [
      "(81120, 20)\n"
     ]
    },
    {
     "data": {
      "text/plain": [
       "\"\\nfor i, col in enumerate(features):\\n    plt.subplot(1, len(features) , i+1)\\n    x = X_tr_norm[col]\\n    y = target\\n    plt.scatter(x, y, marker='o')\\n    plt.title(col)\\n    plt.xlabel(col)\\n    plt.ylabel('BWEIGHT')\\n\""
      ]
     },
     "execution_count": 22,
     "metadata": {},
     "output_type": "execute_result"
    },
    {
     "data": {
      "text/plain": [
       "<Figure size 1440x360 with 0 Axes>"
      ]
     },
     "metadata": {},
     "output_type": "display_data"
    }
   ],
   "source": [
    "X_tr_norm = (X_train - X_train.min())/(X_train.max()-X_train.min())\n",
    "y_tr_norm = (y_train - y_train.min())/(y_train.max()-y_train.min())\n",
    "print(X_tr_norm.shape)\n",
    "plt.figure(figsize=(20, 5))\n",
    "\n",
    "features = ['VISITS','WEEKS', 'FAGE','GAINED']\n",
    "target = y_tr_norm\n",
    "'''\n",
    "for i, col in enumerate(features):\n",
    "    plt.subplot(1, len(features) , i+1)\n",
    "    x = X_tr_norm[col]\n",
    "    y = target\n",
    "    plt.scatter(x, y, marker='o')\n",
    "    plt.title(col)\n",
    "    plt.xlabel(col)\n",
    "    plt.ylabel('BWEIGHT')\n",
    "'''"
   ]
  },
  {
   "cell_type": "markdown",
   "metadata": {},
   "source": [
    "### Applying the training data statistics to normalize the testing data as well."
   ]
  },
  {
   "cell_type": "code",
   "execution_count": 23,
   "metadata": {},
   "outputs": [],
   "source": [
    "X_te_norm = (X_test - X_test.min())/(X_test.max()-X_test.min())\n",
    "y_te_norm = (y_test - y_test.min())/(y_test.max()-y_test.min())"
   ]
  },
  {
   "cell_type": "markdown",
   "metadata": {},
   "source": [
    "### TASK 2: \"Gradient Descent\" function"
   ]
  },
  {
   "cell_type": "code",
   "execution_count": 24,
   "metadata": {},
   "outputs": [],
   "source": [
    "def cal_cost(theta,X,y):\n",
    "    m =len(y)\n",
    "    predict = np.dot(X,theta)\n",
    "    cost = (1/2*m) * np.sum(np.square(predict-y))\n",
    "    return cost\n",
    "\n",
    "def grad_desc(X,y,theta,learn_rate,itera):\n",
    "    m =len(y)\n",
    "    history_cost = np.zeros(itera)\n",
    "    history_theta = np.zeros((itera,X.shape[1]))\n",
    "    for i in range(itera):\n",
    "        predict = np.dot(X,theta)\n",
    "        theta = theta - (1/m)*learn_rate*(np.dot(np.transpose(X),(predict - y)))\n",
    "        history_theta[i,:] = np.transpose(theta)\n",
    "        history_cost[i] = cal_cost(theta,X,y)\n",
    "    return theta, history_cost, history_theta\n",
    "\n",
    "\n",
    "lr=0.01\n",
    "it=10000\n",
    "X_a = np.c_[np.ones((len(X_tr_norm),1)),X_tr_norm]\n",
    "y_a = np.c_[y_tr_norm]\n",
    "theta = np.random.randn(X_a.shape[1],1)\n",
    "theta,cost_history,theta_history = grad_desc(X_a,y_a,theta,lr,it)\n"
   ]
  },
  {
   "cell_type": "markdown",
   "metadata": {},
   "source": [
    "### Predicting BWEIGHT target variable for each of the testing dataset using the regression line and Calculating  RMSE (Root Mean Squared Error)"
   ]
  },
  {
   "cell_type": "code",
   "execution_count": 25,
   "metadata": {},
   "outputs": [
    {
     "name": "stdout",
     "output_type": "stream",
     "text": [
      "0.9278963709025224\n"
     ]
    }
   ],
   "source": [
    "X = np.c_[np.ones((len(X_te_norm),1)),X_te_norm]\n",
    "y_predict = np.dot(X,theta)\n",
    "y_test = np.c_[y_te_norm]\n",
    "rmse = np.sqrt(np.mean((y_test - y_predict)**2))\n",
    "print(rmse)\n"
   ]
  },
  {
   "cell_type": "markdown",
   "metadata": {},
   "source": [
    "## Experiment With different Learning rate and epoch to decrease the RMSE"
   ]
  },
  {
   "cell_type": "markdown",
   "metadata": {},
   "source": [
    "### Run linear regression one last time on the whole dataset  (i.e, training+testing which is preprocessed by you above)."
   ]
  },
  {
   "cell_type": "code",
   "execution_count": 26,
   "metadata": {},
   "outputs": [],
   "source": [
    "lrt=0.001\n",
    "itt=10000\n",
    "y_t = bweight_data[\"BWEIGHT\"]\n",
    "X_norm = (train - train.min())/(train.max()-train.min())\n",
    "y_norm = (y_t - y_t.min())/(y_t.max()-y_t.min())\n",
    "X_b = np.c_[np.ones((len(X_norm),1)),X_norm]\n",
    "y_b = np.c_[y_norm]\n",
    "theta1 = np.random.randn(X.shape[1],1)\n",
    "theta1,cost_history1,theta_history1 = grad_desc(X_b,y_b,theta1,lrt,itt)\n"
   ]
  },
  {
   "cell_type": "markdown",
   "metadata": {},
   "source": [
    "### Preprocess the judge-without-label.csv file to predict the baby weights"
   ]
  },
  {
   "cell_type": "code",
   "execution_count": 27,
   "metadata": {},
   "outputs": [],
   "source": [
    "data = pd.read_csv(\"judge-without-labels.csv\")\n",
    "dum = pd.get_dummies(data,columns=['HISPMOM','HISPDAD'],drop_first=True)\n",
    "test = pd.DataFrame()\n",
    "for col in train:\n",
    "    t1 = dum[col]\n",
    "    test[col] = t1\n",
    "    \n",
    "test_norm = (test - test.min())/(test.max()-test.min())\n",
    "\n",
    "X_t = np.c_[np.ones((len(test_norm),1)),test_norm]\n",
    "y_predic = np.dot(X_t,theta1)\n"
   ]
  },
  {
   "cell_type": "markdown",
   "metadata": {},
   "source": [
    "### Predict BWEIGHT for each of the samples from the judge-without-label.csv file, and saving the results in judge-run.csv in the format below."
   ]
  },
  {
   "cell_type": "code",
   "execution_count": 28,
   "metadata": {},
   "outputs": [],
   "source": [
    "# Actual weight = min_weight + y_predic*(max_weight - min_weight)\n",
    "# bweight min = 0.1875, bweight max = 13.0625 from the above \n",
    "a = 0.187500 + y_predic*(13.0625-0.1875) \n",
    "jud_df = pd.DataFrame(data = np.arange(len(a)),columns=[\"ID\"],index=None,)\n",
    "jud_df['BWEIGHT'] = a\n",
    "jud_df.to_csv(\"judge-run.csv\",index=False)"
   ]
  }
 ],
 "metadata": {
  "kernelspec": {
   "display_name": "Python 3",
   "language": "python",
   "name": "python3"
  },
  "language_info": {
   "codemirror_mode": {
    "name": "ipython",
    "version": 3
   },
   "file_extension": ".py",
   "mimetype": "text/x-python",
   "name": "python",
   "nbconvert_exporter": "python",
   "pygments_lexer": "ipython3",
   "version": "3.7.4"
  },
  "varInspector": {
   "cols": {
    "lenName": 16,
    "lenType": 16,
    "lenVar": 40
   },
   "kernels_config": {
    "python": {
     "delete_cmd_postfix": "",
     "delete_cmd_prefix": "del ",
     "library": "var_list.py",
     "varRefreshCmd": "print(var_dic_list())"
    },
    "r": {
     "delete_cmd_postfix": ") ",
     "delete_cmd_prefix": "rm(",
     "library": "var_list.r",
     "varRefreshCmd": "cat(var_dic_list()) "
    }
   },
   "types_to_exclude": [
    "module",
    "function",
    "builtin_function_or_method",
    "instance",
    "_Feature"
   ],
   "window_display": false
  }
 },
 "nbformat": 4,
 "nbformat_minor": 2
}
